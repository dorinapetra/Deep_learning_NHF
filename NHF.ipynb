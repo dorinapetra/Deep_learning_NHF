{
 "cells": [
  {
   "cell_type": "code",
   "execution_count": 8,
   "metadata": {},
   "outputs": [],
   "source": [
    "import PIL.Image as pil_image\n",
    "import io\n",
    "import numpy as np\n",
    "path='D:/Downloads/Train&Validation/normal1_patient196_SR_2_IM00021.tif'\n",
    "save_path='D:/Downloads/normal1_patient196_SR_2_IM00021.tif'\n",
    "with open(path, 'rb') as f:\n",
    "    tif = pil_image.open(io.BytesIO(f.read()))\n",
    "array=np.array(tif)\n",
    "max_val=np.amax(array)\n",
    "normalized=(array/max_val)\n",
    "im = pil_image.fromarray(normalized)\n",
    "im.save(save_path)"
   ]
  },
  {
   "cell_type": "code",
   "execution_count": 10,
   "metadata": {},
   "outputs": [],
   "source": [
    "im.show()"
   ]
  },
  {
   "cell_type": "code",
   "execution_count": null,
   "metadata": {},
   "outputs": [],
   "source": []
  }
 ],
 "metadata": {
  "kernelspec": {
   "display_name": "Python 3",
   "language": "python",
   "name": "python3"
  },
  "language_info": {
   "codemirror_mode": {
    "name": "ipython",
    "version": 3
   },
   "file_extension": ".py",
   "mimetype": "text/x-python",
   "name": "python",
   "nbconvert_exporter": "python",
   "pygments_lexer": "ipython3",
   "version": "3.8.3"
  }
 },
 "nbformat": 4,
 "nbformat_minor": 4
}
